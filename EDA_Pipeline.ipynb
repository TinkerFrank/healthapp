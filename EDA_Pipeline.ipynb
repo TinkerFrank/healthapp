{
 "cells": [
  {
   "attachments": {},
   "cell_type": "markdown",
   "metadata": {},
   "source": [
    "%%html\n",
    "<style>\n",
    "li{\n",
    "  margin: 10px 0;\n",
    "}\n",
    "</style>\n",
    "<h2>EDA Analysis Pipeline</h2>\n",
    "Authors: Stephan, Yijoon, Hans, Frank\n",
    "\n",
    "<h3>Index</h3>\n",
    "<ol type=\"I\">\n",
    "<li><a href='#section1'>Defining the goal/problem</li>  \n",
    "<li><a href='#section2'>Fetching and cleaning the data</li>  \n",
    "<li><a href='#section3'>Understand and visualize the data</li>\n",
    "<li><a href='#section4'>Analyze the data</li>\n",
    "<li><a href='#section5'>Interpret results</li>\n",
    "<li><a href='#section6'>Iterate and refine</li>\n",
    "</ol>"
   ]
  },
  {
   "attachments": {},
   "cell_type": "markdown",
   "metadata": {},
   "source": [
    "---\n",
    "<a id='section1'></a>\n",
    "## 1. Defining the goal/problem\n",
    "```What is the purpose of this analysis?  ```"
   ]
  },
  {
   "attachments": {},
   "cell_type": "markdown",
   "metadata": {},
   "source": [
    "Building a model that accurately can predict the lifespan based on features in the data and use that to determine the premium for life insurance in an ethical way."
   ]
  },
  {
   "attachments": {},
   "cell_type": "markdown",
   "metadata": {},
   "source": [
    "---\n",
    "<a id='section2'></a>\n",
    "## 2. Fetching and cleaning the data\n",
    "```\n",
    "- a. collect the data \n",
    "- b. check for: errors, missing values(Nan), data types(object,float,int), duplicates and other inconsistencies\n",
    "- c. clean the data: remove duplicates and remove irrelevant information/columns\n",
    "```"
   ]
  },
  {
   "attachments": {},
   "cell_type": "markdown",
   "metadata": {},
   "source": [
    "---\n",
    "<a id='section3'></a>\n",
    "## 3. Understand and visualize the data\n",
    "```\n",
    "- a. Examine structure and content: size,shape and type of variables\n",
    "- b. Visualize the data with plots: histograms, box plots, scatter plots and heatmaps\n",
    "- c. Identify any outliers, patterns, relationships or trends\n",
    "- d. Decide to impute or delete the outliers\n",
    "```"
   ]
  },
  {
   "attachments": {},
   "cell_type": "markdown",
   "metadata": {},
   "source": [
    "---\n",
    "<a id='section4'></a>\n",
    "## 4. Analyze the data\n",
    "```\n",
    "- a. Apply statistical analysis tools: mean, median, mode, standard deviation\n",
    "- b. Go through Checklist for linear regression: normal distribution, continuous variable, correlation and p-value\n",
    "```"
   ]
  },
  {
   "attachments": {},
   "cell_type": "markdown",
   "metadata": {},
   "source": [
    "---\n",
    "<a id='section5'></a>\n",
    "## 5. Interpret the results\n",
    "```\n",
    "- Draw conclusions, make insights and communicate in a clear, concise and unbiased manner\n",
    "```"
   ]
  },
  {
   "attachments": {},
   "cell_type": "markdown",
   "metadata": {},
   "source": [
    "---\n",
    "<a id='section5'></a>\n",
    "## 5. Iterate and refine\n",
    "```\n",
    "- Explore alternative approaches e.g. test assumptions and update your conclusions based on feedback and new insights \n",
    "```"
   ]
  }
 ],
 "metadata": {
  "language_info": {
   "name": "python"
  },
  "orig_nbformat": 4
 },
 "nbformat": 4,
 "nbformat_minor": 2
}
