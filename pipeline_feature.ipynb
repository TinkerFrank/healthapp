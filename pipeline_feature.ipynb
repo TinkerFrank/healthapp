{
 "cells": [
  {
   "cell_type": "code",
   "execution_count": null,
   "metadata": {},
   "outputs": [],
   "source": [
    "import requests\n",
    "import pandas as pd\n",
    "import seaborn as sns\n",
    "import matplotlib.pyplot as plt\n",
    "import numpy as np\n",
    "from scipy import stats"
   ]
  },
  {
   "attachments": {},
   "cell_type": "markdown",
   "metadata": {},
   "source": [
    "<h3> Step 0: Data Sanitation </h3>\n",
    "<li> null values (Nan), duplicates, object -> float/int</li>"
   ]
  },
  {
   "cell_type": "code",
   "execution_count": null,
   "metadata": {},
   "outputs": [],
   "source": [
    "df = df.copy()\n",
    "df.isnull().sum() #why is it missing, is it random? : input (impute) or delete? (some decisions come later outlier analysis, but some can be taken now)\n",
    "df.duplicated().sum()\n",
    "# dupli_rows = df[df.duplicated()]\n",
    "# df.drop.duplicates() \n",
    "# check for special characters ??/>, delete and convert to int/float etc."
   ]
  },
  {
   "attachments": {},
   "cell_type": "markdown",
   "metadata": {},
   "source": [
    "<h3>Step 1: Simply Look at the Data and state what you already can see</h3>"
   ]
  },
  {
   "cell_type": "code",
   "execution_count": null,
   "metadata": {},
   "outputs": [],
   "source": [
    "df.type\n",
    "df.describe()  #mean,sd, min,max"
   ]
  },
  {
   "cell_type": "code",
   "execution_count": null,
   "metadata": {},
   "outputs": [],
   "source": [
    "#jointplot with distribution and regression line\n",
    "sns.jointplot(data=df, x=\"alcohol\", y=\"lifespan\",marginal_kws=dict(bins=35), kind='reg')"
   ]
  },
  {
   "attachments": {},
   "cell_type": "markdown",
   "metadata": {},
   "source": [
    "<li>Decision: imputing do we detect strange outliers in the data do we impute or delete?</li>"
   ]
  },
  {
   "attachments": {},
   "cell_type": "markdown",
   "metadata": {},
   "source": [
    "<li> Quick Overall Graphical Overview (!warning, takes ~2min or more)</li>"
   ]
  },
  {
   "cell_type": "code",
   "execution_count": null,
   "metadata": {},
   "outputs": [],
   "source": [
    "g = sns.PairGrid(df)\n",
    "g.map(sns.lineplot)"
   ]
  },
  {
   "attachments": {},
   "cell_type": "markdown",
   "metadata": {},
   "source": [
    "<h3> Step 2: Zoom in on individual features </h3>\n",
    "<li> Outliers </li>\n",
    "<li> Strange data points </li>\n",
    "<li> look for correlations: linear/log/etc.</li>\n",
    "<li> Is the feature normally distributed </li>"
   ]
  },
  {
   "cell_type": "code",
   "execution_count": null,
   "metadata": {},
   "outputs": [],
   "source": [
    "#Show scatter, boxplot a\n",
    "fig, axes = plt.subplots(1,2,figsize=(15,5))\n",
    "sns.stripplot(df, x='alcohol', y='lifespan',size=1, color=\".8\",ax=axes[0])\n",
    "sns.boxplot(df[['alcohol']],ax=axes[1])"
   ]
  },
  {
   "cell_type": "code",
   "execution_count": null,
   "metadata": {},
   "outputs": [],
   "source": [
    "#Show lineplot and/or jointplot, check for correlation (linear, positive/negative)\n",
    "sns.lineplot(df,x='alcohol',y='lifespan')"
   ]
  },
  {
   "cell_type": "code",
   "execution_count": null,
   "metadata": {},
   "outputs": [],
   "source": [
    "sns.jointplot(df, x=\"alcohol\", y=\"lifespan\",marginal_kws=dict(bins=35), kind='reg')"
   ]
  },
  {
   "cell_type": "code",
   "execution_count": null,
   "metadata": {},
   "outputs": [],
   "source": [
    "#Show Q-Q plot and draw conclusion on linearity and if linear regression is applicable \n",
    "from seaborn_qqplot import pplot\n",
    "myplot = pplot(df, x=\"lifespan\", y=\"alcohol\", kind='qq', height=5)"
   ]
  },
  {
   "attachments": {},
   "cell_type": "markdown",
   "metadata": {},
   "source": [
    "<h3> Step 4: Correlations of independent variables with dependent variable lifespan</h3>\n",
    "\n",
    "__[Correlation Coefficient](https://en.wikipedia.org/wiki/Pearson_correlation_coefficient)__\n",
    "\n",
    "$ \\rho_{x,y} = \\frac{cov(x,y)}{\\sigma_{x}\\sigma{y}}$\n",
    "\n"
   ]
  },
  {
   "cell_type": "code",
   "execution_count": null,
   "metadata": {},
   "outputs": [],
   "source": [
    "#colorfull matrix, showing correlations\n",
    "df_corr = df[['lifespan', 'genetic', \n",
    "      #'length', 'mass', \n",
    "      'exercise', 'smoking',\n",
    "       'alcohol', 'sugar', 'BMI']].dropna().corr()\n",
    "df_corr.style.background_gradient(cmap='RdBu')"
   ]
  },
  {
   "cell_type": "code",
   "execution_count": null,
   "metadata": {},
   "outputs": [],
   "source": [
    "#graphical correlation matrix view\n",
    "sns.heatmap(df_corr,annot=True)"
   ]
  },
  {
   "attachments": {},
   "cell_type": "markdown",
   "metadata": {},
   "source": [
    "<li>Calculate P-values</li>\n",
    "\n",
    "If p<0.05 (almost 0) the correlation for the feature is extremely likely to happen again if we collect more sample data and thus representative for the entire set\n"
   ]
  },
  {
   "cell_type": "code",
   "execution_count": null,
   "metadata": {},
   "outputs": [],
   "source": [
    "r,p = stats.pearsonr(df.lifespan,df.smoking)\n",
    "print('smoking corr:',round(r,4))\n",
    "print('smoking p-val:',round(p,4))\n",
    "r,p = stats.pearsonr(df.lifespan,df.exercise)\n",
    "print('exercise corr:',round(r,4))\n",
    "print('exercise p-val:',round(p,4))\n",
    "r,p = stats.pearsonr(df.lifespan,df.genetic) #capital sensitive .<columnname>\n",
    "print('BMI corr:',round(r,4))\n",
    "print('BMI p-val:',round(p,4))"
   ]
  },
  {
   "attachments": {},
   "cell_type": "markdown",
   "metadata": {},
   "source": [
    "<h3>Step 5: If correlated, linear-ish graph vs lifespan, normal-ish distributed and continuous in R then we can apply linear regression</h3>\n",
    "- Inputs: Smoking, Exercise<br>\n",
    "- Output: Lifespan<br>\n",
    "\n",
    "$ y=\\alpha*x_{smoking}+\\beta*x_{exercise}+c $"
   ]
  },
  {
   "cell_type": "code",
   "execution_count": null,
   "metadata": {},
   "outputs": [],
   "source": [
    "from sklearn import linear_model \n",
    "from sklearn.model_selection import train_test_split\n",
    "\n",
    "train, test = train_test_split(df, test_size=0.2, random_state=0)\n",
    "\n",
    "X = train[['smoking', 'exercise']]\n",
    "y = train.lifespan\n",
    "regr = linear_model.LinearRegression()\n",
    "regr.fit(X, y) "
   ]
  },
  {
   "cell_type": "code",
   "execution_count": null,
   "metadata": {},
   "outputs": [],
   "source": [
    "# The coefficients\n",
    "print('Coefficients: \\n', regr.coef_)\n",
    "print(f'c would be:',regr.predict([[0,0]]))"
   ]
  },
  {
   "attachments": {},
   "cell_type": "markdown",
   "metadata": {},
   "source": [
    "In regression, the $R^{2}$ coefficient of determination is a statistical measure of how well the regression predictions approximate the real data points.  <br>\n",
    "Close to 1 means there is a strong correlation between the independent variables smoking, exercise and the dependent variable lifespan."
   ]
  },
  {
   "cell_type": "code",
   "execution_count": null,
   "metadata": {},
   "outputs": [],
   "source": [
    "print(train.shape, test.shape)\n",
    "score = regr.score(test[['smoking', 'exercise']],test.lifespan)\n",
    "print(f'coefficient of determination(R\\N{SUPERSCRIPT TWO}):', score)"
   ]
  },
  {
   "attachments": {},
   "cell_type": "markdown",
   "metadata": {},
   "source": [
    "<h3>Step 6: Calculate the PremiumFactor for the insurance </h3><br>\n",
    "\n",
    "$ PremiumFactor=\\frac{genetic}{lifespan} $"
   ]
  }
 ],
 "metadata": {
  "language_info": {
   "name": "python"
  },
  "orig_nbformat": 4
 },
 "nbformat": 4,
 "nbformat_minor": 2
}
